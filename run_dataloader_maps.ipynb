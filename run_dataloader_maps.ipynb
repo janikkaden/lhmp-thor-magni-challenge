{
 "cells": [
  {
   "cell_type": "code",
   "execution_count": 1,
   "metadata": {},
   "outputs": [],
   "source": [
    "%load_ext autoreload\n",
    "%autoreload 2\n",
    "%matplotlib inline\n",
    "\n",
    "import os \n",
    "import matplotlib.pyplot as plt\n",
    "import numpy as np\n",
    "from torch.utils.data import DataLoader\n",
    "\n",
    "\n",
    "from extract_data import ExtractPredictionDataset\n",
    "from scaler import FeaturesScaler\n",
    "from dataloader import HardMagni"
   ]
  },
  {
   "cell_type": "code",
   "execution_count": 2,
   "metadata": {},
   "outputs": [],
   "source": [
    "PATH = \"../icra-magni-benchmark/data\"  # path to preprocessed scenarios directory\n",
    "SCENARIOS_USED = [\"Scenario_1\", \"Scenario_2\", \"Scenario_3\", \"Scenario_4\", \"Scenario_5\"]\n",
    "TEST_SCENARIO = \"Scenario_1\"\n",
    "MAPS_PATH = \"../datasets/thor_magni_pub_ready/maps\" # path to obstacles maps directory"
   ]
  },
  {
   "cell_type": "code",
   "execution_count": 3,
   "metadata": {},
   "outputs": [
    {
     "data": {
      "text/plain": [
       "['Scenario_2', 'Scenario_3', 'Scenario_4', 'Scenario_5']"
      ]
     },
     "execution_count": 3,
     "metadata": {},
     "output_type": "execute_result"
    }
   ],
   "source": [
    "train_scenarios = SCENARIOS_USED\n",
    "train_scenarios.remove(TEST_SCENARIO)\n",
    "train_scenarios"
   ]
  },
  {
   "cell_type": "code",
   "execution_count": 4,
   "metadata": {},
   "outputs": [],
   "source": [
    "DATA_CONFIG = {\n",
    "    \"obs_len\" : 8,\n",
    "    \"pred_len\" : 12, \n",
    "    \"min_speed\" : 0., \n",
    "    \"max_speed\" : 2.5,\n",
    "}"
   ]
  },
  {
   "cell_type": "markdown",
   "metadata": {},
   "source": [
    "# Loading data"
   ]
  },
  {
   "cell_type": "code",
   "execution_count": 5,
   "metadata": {},
   "outputs": [],
   "source": [
    "tracklet_len = DATA_CONFIG[\"obs_len\"] + DATA_CONFIG[\"pred_len\"]\n",
    "min_speed = DATA_CONFIG[\"min_speed\"]\n",
    "max_speed = DATA_CONFIG[\"max_speed\"]\n",
    "\n",
    "train_tracklets = []\n",
    "for train_scenario in train_scenarios:\n",
    "    train_tracklets.extend(\n",
    "        ExtractPredictionDataset.get_tracklets_scenario(\n",
    "            path=os.path.join(PATH, train_scenario),\n",
    "            tracklet_len=tracklet_len,\n",
    "            min_speed=min_speed,\n",
    "            max_speed=max_speed,\n",
    "        )\n",
    "    )\n",
    "\n",
    "test_tracklets = ExtractPredictionDataset.get_tracklets_scenario(\n",
    "    path=os.path.join(PATH, TEST_SCENARIO),\n",
    "    tracklet_len=tracklet_len,\n",
    "    min_speed=min_speed,\n",
    "    max_speed=max_speed,\n",
    ")"
   ]
  },
  {
   "cell_type": "code",
   "execution_count": 6,
   "metadata": {},
   "outputs": [
    {
     "data": {
      "text/plain": [
       "(5958, 2935)"
      ]
     },
     "execution_count": 6,
     "metadata": {},
     "output_type": "execute_result"
    }
   ],
   "source": [
    "len(train_tracklets), len(test_tracklets)"
   ]
  },
  {
   "cell_type": "code",
   "execution_count": 7,
   "metadata": {},
   "outputs": [],
   "source": [
    "full_ds_scl, statistics = FeaturesScaler.scale_dataset(train_tracklets)"
   ]
  },
  {
   "cell_type": "code",
   "execution_count": 8,
   "metadata": {},
   "outputs": [],
   "source": [
    "train_ds = HardMagni(\n",
    "    train_tracklets,\n",
    "    visuals_path=MAPS_PATH,\n",
    "    obs_len=DATA_CONFIG[\"obs_len\"],\n",
    "    window_size=3.5,\n",
    "    collapse_visitors=False,\n",
    ")"
   ]
  },
  {
   "cell_type": "code",
   "execution_count": 9,
   "metadata": {},
   "outputs": [],
   "source": [
    "train_dl = DataLoader(train_ds, 4, shuffle=True)\n",
    "train_dl_i = iter(train_dl)"
   ]
  },
  {
   "cell_type": "code",
   "execution_count": 10,
   "metadata": {},
   "outputs": [],
   "source": [
    "sample = next(train_dl_i)"
   ]
  },
  {
   "cell_type": "code",
   "execution_count": 11,
   "metadata": {},
   "outputs": [],
   "source": [
    "SAMPLE_IDX = 3"
   ]
  },
  {
   "cell_type": "code",
   "execution_count": 12,
   "metadata": {},
   "outputs": [],
   "source": [
    "obstacle_map = sample[\"img\"][SAMPLE_IDX].permute(1,2,0).numpy()\n",
    "trajectory_pixels = sample[\"trajectories_pixels\"][SAMPLE_IDX][:, :2]"
   ]
  },
  {
   "cell_type": "code",
   "execution_count": 13,
   "metadata": {},
   "outputs": [],
   "source": [
    "tracklet_origin = trajectory_pixels[DATA_CONFIG[\"obs_len\"] - 1]\n",
    "traj_transformed = (\n",
    "    trajectory_pixels[:7]\n",
    "    - tracklet_origin\n",
    "    + np.array([train_ds.window_size, train_ds.window_size])\n",
    ")"
   ]
  },
  {
   "cell_type": "code",
   "execution_count": 14,
   "metadata": {},
   "outputs": [
    {
     "data": {
      "image/png": "[encoded data removed]",
      "text/plain": [
       "<Figure size 640x480 with 1 Axes>"
      ]
     },
     "metadata": {},
     "output_type": "display_data"
    }
   ],
   "source": [
    "plt.imshow(obstacle_map);\n",
    "plt.scatter(traj_transformed[0, 0], traj_transformed[0, 1], s=200, color=\"red\", marker=\"x\");\n",
    "plt.scatter(traj_transformed[-1, 0], traj_transformed[-1, 1], s=200, color=\"blue\");\n",
    "plt.plot(traj_transformed[:, 0], traj_transformed[:, 1], linewidth=5, color=\"green\");"
   ]
  }
 ],
 "metadata": {
  "kernelspec": {
   "display_name": "tragen",
   "language": "python",
   "name": "python3"
  },
  "language_info": {
   "codemirror_mode": {
    "name": "ipython",
    "version": 3
   },
   "file_extension": ".py",
   "mimetype": "text/x-python",
   "name": "python",
   "nbconvert_exporter": "python",
   "pygments_lexer": "ipython3",
   "version": "3.11.3"
  }
 },
 "nbformat": 4,
 "nbformat_minor": 2
}
